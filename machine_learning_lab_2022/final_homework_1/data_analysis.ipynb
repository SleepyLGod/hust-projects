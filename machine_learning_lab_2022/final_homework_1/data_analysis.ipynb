{
 "cells": [
  {
   "cell_type": "code",
   "execution_count": 139,
   "outputs": [
    {
     "data": {
      "text/plain": "      product_id type  year  month    order  start_stock  end_stock\n0           1001   A1  2018      2   1129.0         47.0       70.0\n1           1001   A1  2018      3   3568.0         70.0       91.0\n2           1001   A1  2018      4   4560.0         91.0      110.0\n3           1001   A1  2018      5   7521.0        110.0       47.0\n4           1001   A1  2018      6   7687.0         47.0       41.0\n...          ...  ...   ...    ...      ...          ...        ...\n7283        1210   A3  2020      8  14180.0         97.0       94.0\n7284        1210   A3  2020      9  15034.0         94.0       79.0\n7285        1210   A3  2020     10  14312.0         79.0       61.0\n7286        1210   A3  2020     11  16180.0         81.0       88.0\n7287        1210   A3  2020     12  17381.0         88.0       90.0\n\n[7288 rows x 7 columns]",
      "text/html": "<div>\n<style scoped>\n    .dataframe tbody tr th:only-of-type {\n        vertical-align: middle;\n    }\n\n    .dataframe tbody tr th {\n        vertical-align: top;\n    }\n\n    .dataframe thead th {\n        text-align: right;\n    }\n</style>\n<table border=\"1\" class=\"dataframe\">\n  <thead>\n    <tr style=\"text-align: right;\">\n      <th></th>\n      <th>product_id</th>\n      <th>type</th>\n      <th>year</th>\n      <th>month</th>\n      <th>order</th>\n      <th>start_stock</th>\n      <th>end_stock</th>\n    </tr>\n  </thead>\n  <tbody>\n    <tr>\n      <th>0</th>\n      <td>1001</td>\n      <td>A1</td>\n      <td>2018</td>\n      <td>2</td>\n      <td>1129.0</td>\n      <td>47.0</td>\n      <td>70.0</td>\n    </tr>\n    <tr>\n      <th>1</th>\n      <td>1001</td>\n      <td>A1</td>\n      <td>2018</td>\n      <td>3</td>\n      <td>3568.0</td>\n      <td>70.0</td>\n      <td>91.0</td>\n    </tr>\n    <tr>\n      <th>2</th>\n      <td>1001</td>\n      <td>A1</td>\n      <td>2018</td>\n      <td>4</td>\n      <td>4560.0</td>\n      <td>91.0</td>\n      <td>110.0</td>\n    </tr>\n    <tr>\n      <th>3</th>\n      <td>1001</td>\n      <td>A1</td>\n      <td>2018</td>\n      <td>5</td>\n      <td>7521.0</td>\n      <td>110.0</td>\n      <td>47.0</td>\n    </tr>\n    <tr>\n      <th>4</th>\n      <td>1001</td>\n      <td>A1</td>\n      <td>2018</td>\n      <td>6</td>\n      <td>7687.0</td>\n      <td>47.0</td>\n      <td>41.0</td>\n    </tr>\n    <tr>\n      <th>...</th>\n      <td>...</td>\n      <td>...</td>\n      <td>...</td>\n      <td>...</td>\n      <td>...</td>\n      <td>...</td>\n      <td>...</td>\n    </tr>\n    <tr>\n      <th>7283</th>\n      <td>1210</td>\n      <td>A3</td>\n      <td>2020</td>\n      <td>8</td>\n      <td>14180.0</td>\n      <td>97.0</td>\n      <td>94.0</td>\n    </tr>\n    <tr>\n      <th>7284</th>\n      <td>1210</td>\n      <td>A3</td>\n      <td>2020</td>\n      <td>9</td>\n      <td>15034.0</td>\n      <td>94.0</td>\n      <td>79.0</td>\n    </tr>\n    <tr>\n      <th>7285</th>\n      <td>1210</td>\n      <td>A3</td>\n      <td>2020</td>\n      <td>10</td>\n      <td>14312.0</td>\n      <td>79.0</td>\n      <td>61.0</td>\n    </tr>\n    <tr>\n      <th>7286</th>\n      <td>1210</td>\n      <td>A3</td>\n      <td>2020</td>\n      <td>11</td>\n      <td>16180.0</td>\n      <td>81.0</td>\n      <td>88.0</td>\n    </tr>\n    <tr>\n      <th>7287</th>\n      <td>1210</td>\n      <td>A3</td>\n      <td>2020</td>\n      <td>12</td>\n      <td>17381.0</td>\n      <td>88.0</td>\n      <td>90.0</td>\n    </tr>\n  </tbody>\n</table>\n<p>7288 rows × 7 columns</p>\n</div>"
     },
     "execution_count": 139,
     "metadata": {},
     "output_type": "execute_result"
    }
   ],
   "source": [
    "import pandas as pd\n",
    "# 订单读入\n",
    "order = pd.read_csv('data/商品月订单训练集.csv')\n",
    "order_test = pd.read_csv('data/商品月订单测试集.csv')\n",
    "order"
   ],
   "metadata": {
    "collapsed": false,
    "pycharm": {
     "name": "#%%\n"
    }
   }
  },
  {
   "cell_type": "code",
   "execution_count": 140,
   "id": "346df373-5e90-4ad8-9154-cd13c3e5e9e7",
   "metadata": {
    "pycharm": {
     "name": "#%%\n"
    }
   },
   "outputs": [
    {
     "data": {
      "text/plain": "      product_id  year  month  is_sale_day   label\n0           1001  2018      2          0.0   517.0\n1           1001  2018      3          0.0  3190.0\n2           1001  2018      4          0.0  4186.0\n3           1001  2018      5          0.0  5412.0\n4           1001  2018      6          0.0  5665.0\n...          ...   ...    ...          ...     ...\n7283        1210  2020      8          1.0  6443.0\n7284        1210  2020      9          1.0  6432.0\n7285        1210  2020     10          1.0  5803.0\n7286        1210  2020     11          1.0  6138.0\n7287        1210  2020     12          1.0  6485.0\n\n[7288 rows x 5 columns]",
      "text/html": "<div>\n<style scoped>\n    .dataframe tbody tr th:only-of-type {\n        vertical-align: middle;\n    }\n\n    .dataframe tbody tr th {\n        vertical-align: top;\n    }\n\n    .dataframe thead th {\n        text-align: right;\n    }\n</style>\n<table border=\"1\" class=\"dataframe\">\n  <thead>\n    <tr style=\"text-align: right;\">\n      <th></th>\n      <th>product_id</th>\n      <th>year</th>\n      <th>month</th>\n      <th>is_sale_day</th>\n      <th>label</th>\n    </tr>\n  </thead>\n  <tbody>\n    <tr>\n      <th>0</th>\n      <td>1001</td>\n      <td>2018</td>\n      <td>2</td>\n      <td>0.0</td>\n      <td>517.0</td>\n    </tr>\n    <tr>\n      <th>1</th>\n      <td>1001</td>\n      <td>2018</td>\n      <td>3</td>\n      <td>0.0</td>\n      <td>3190.0</td>\n    </tr>\n    <tr>\n      <th>2</th>\n      <td>1001</td>\n      <td>2018</td>\n      <td>4</td>\n      <td>0.0</td>\n      <td>4186.0</td>\n    </tr>\n    <tr>\n      <th>3</th>\n      <td>1001</td>\n      <td>2018</td>\n      <td>5</td>\n      <td>0.0</td>\n      <td>5412.0</td>\n    </tr>\n    <tr>\n      <th>4</th>\n      <td>1001</td>\n      <td>2018</td>\n      <td>6</td>\n      <td>0.0</td>\n      <td>5665.0</td>\n    </tr>\n    <tr>\n      <th>...</th>\n      <td>...</td>\n      <td>...</td>\n      <td>...</td>\n      <td>...</td>\n      <td>...</td>\n    </tr>\n    <tr>\n      <th>7283</th>\n      <td>1210</td>\n      <td>2020</td>\n      <td>8</td>\n      <td>1.0</td>\n      <td>6443.0</td>\n    </tr>\n    <tr>\n      <th>7284</th>\n      <td>1210</td>\n      <td>2020</td>\n      <td>9</td>\n      <td>1.0</td>\n      <td>6432.0</td>\n    </tr>\n    <tr>\n      <th>7285</th>\n      <td>1210</td>\n      <td>2020</td>\n      <td>10</td>\n      <td>1.0</td>\n      <td>5803.0</td>\n    </tr>\n    <tr>\n      <th>7286</th>\n      <td>1210</td>\n      <td>2020</td>\n      <td>11</td>\n      <td>1.0</td>\n      <td>6138.0</td>\n    </tr>\n    <tr>\n      <th>7287</th>\n      <td>1210</td>\n      <td>2020</td>\n      <td>12</td>\n      <td>1.0</td>\n      <td>6485.0</td>\n    </tr>\n  </tbody>\n</table>\n<p>7288 rows × 5 columns</p>\n</div>"
     },
     "execution_count": 140,
     "metadata": {},
     "output_type": "execute_result"
    }
   ],
   "source": [
    "# 需求读入，每天合并为月\n",
    "demand = pd.read_csv('data/商品需求训练集.csv')\n",
    "demand['date'] = pd.to_datetime(demand['date'])\n",
    "demand['year'] = demand['date'].dt.year\n",
    "demand['month'] = demand['date'].dt.month\n",
    "demand=demand.groupby(['product_id', 'year', 'month']).agg({'is_sale_day':'mean', 'label':'sum'}).reset_index()\n",
    "\n",
    "demand_test = pd.read_csv('data/商品需求测试集.csv')\n",
    "demand_test['date'] = pd.to_datetime(demand_test['date'])\n",
    "demand_test['year'] = demand_test['date'].dt.year\n",
    "demand_test['month'] = demand_test['date'].dt.month\n",
    "demand_test = demand_test.groupby(['product_id', 'year', 'month'])[['is_sale_day']].mean().reset_index()\n",
    "\n",
    "demand"
   ]
  },
  {
   "cell_type": "code",
   "execution_count": 141,
   "id": "c43fec92-7819-4474-8636-8652657bdc2c",
   "metadata": {
    "pycharm": {
     "name": "#%%\n"
    }
   },
   "outputs": [
    {
     "data": {
      "text/plain": "      product_id  year  month  is_sale_day   label type    order  start_stock  \\\n0           1001  2018      2          0.0   517.0   A1   1129.0         47.0   \n1           1001  2018      3          0.0  3190.0   A1   3568.0         70.0   \n2           1001  2018      4          0.0  4186.0   A1   4560.0         91.0   \n3           1001  2018      5          0.0  5412.0   A1   7521.0        110.0   \n4           1001  2018      6          0.0  5665.0   A1   7687.0         47.0   \n...          ...   ...    ...          ...     ...  ...      ...          ...   \n7283        1210  2020      8          1.0  6443.0   A3  14180.0         97.0   \n7284        1210  2020      9          1.0  6432.0   A3  15034.0         94.0   \n7285        1210  2020     10          1.0  5803.0   A3  14312.0         79.0   \n7286        1210  2020     11          1.0  6138.0   A3  16180.0         81.0   \n7287        1210  2020     12          1.0  6485.0   A3  17381.0         88.0   \n\n      end_stock  \n0          70.0  \n1          91.0  \n2         110.0  \n3          47.0  \n4          41.0  \n...         ...  \n7283       94.0  \n7284       79.0  \n7285       61.0  \n7286       88.0  \n7287       90.0  \n\n[7288 rows x 9 columns]",
      "text/html": "<div>\n<style scoped>\n    .dataframe tbody tr th:only-of-type {\n        vertical-align: middle;\n    }\n\n    .dataframe tbody tr th {\n        vertical-align: top;\n    }\n\n    .dataframe thead th {\n        text-align: right;\n    }\n</style>\n<table border=\"1\" class=\"dataframe\">\n  <thead>\n    <tr style=\"text-align: right;\">\n      <th></th>\n      <th>product_id</th>\n      <th>year</th>\n      <th>month</th>\n      <th>is_sale_day</th>\n      <th>label</th>\n      <th>type</th>\n      <th>order</th>\n      <th>start_stock</th>\n      <th>end_stock</th>\n    </tr>\n  </thead>\n  <tbody>\n    <tr>\n      <th>0</th>\n      <td>1001</td>\n      <td>2018</td>\n      <td>2</td>\n      <td>0.0</td>\n      <td>517.0</td>\n      <td>A1</td>\n      <td>1129.0</td>\n      <td>47.0</td>\n      <td>70.0</td>\n    </tr>\n    <tr>\n      <th>1</th>\n      <td>1001</td>\n      <td>2018</td>\n      <td>3</td>\n      <td>0.0</td>\n      <td>3190.0</td>\n      <td>A1</td>\n      <td>3568.0</td>\n      <td>70.0</td>\n      <td>91.0</td>\n    </tr>\n    <tr>\n      <th>2</th>\n      <td>1001</td>\n      <td>2018</td>\n      <td>4</td>\n      <td>0.0</td>\n      <td>4186.0</td>\n      <td>A1</td>\n      <td>4560.0</td>\n      <td>91.0</td>\n      <td>110.0</td>\n    </tr>\n    <tr>\n      <th>3</th>\n      <td>1001</td>\n      <td>2018</td>\n      <td>5</td>\n      <td>0.0</td>\n      <td>5412.0</td>\n      <td>A1</td>\n      <td>7521.0</td>\n      <td>110.0</td>\n      <td>47.0</td>\n    </tr>\n    <tr>\n      <th>4</th>\n      <td>1001</td>\n      <td>2018</td>\n      <td>6</td>\n      <td>0.0</td>\n      <td>5665.0</td>\n      <td>A1</td>\n      <td>7687.0</td>\n      <td>47.0</td>\n      <td>41.0</td>\n    </tr>\n    <tr>\n      <th>...</th>\n      <td>...</td>\n      <td>...</td>\n      <td>...</td>\n      <td>...</td>\n      <td>...</td>\n      <td>...</td>\n      <td>...</td>\n      <td>...</td>\n      <td>...</td>\n    </tr>\n    <tr>\n      <th>7283</th>\n      <td>1210</td>\n      <td>2020</td>\n      <td>8</td>\n      <td>1.0</td>\n      <td>6443.0</td>\n      <td>A3</td>\n      <td>14180.0</td>\n      <td>97.0</td>\n      <td>94.0</td>\n    </tr>\n    <tr>\n      <th>7284</th>\n      <td>1210</td>\n      <td>2020</td>\n      <td>9</td>\n      <td>1.0</td>\n      <td>6432.0</td>\n      <td>A3</td>\n      <td>15034.0</td>\n      <td>94.0</td>\n      <td>79.0</td>\n    </tr>\n    <tr>\n      <th>7285</th>\n      <td>1210</td>\n      <td>2020</td>\n      <td>10</td>\n      <td>1.0</td>\n      <td>5803.0</td>\n      <td>A3</td>\n      <td>14312.0</td>\n      <td>79.0</td>\n      <td>61.0</td>\n    </tr>\n    <tr>\n      <th>7286</th>\n      <td>1210</td>\n      <td>2020</td>\n      <td>11</td>\n      <td>1.0</td>\n      <td>6138.0</td>\n      <td>A3</td>\n      <td>16180.0</td>\n      <td>81.0</td>\n      <td>88.0</td>\n    </tr>\n    <tr>\n      <th>7287</th>\n      <td>1210</td>\n      <td>2020</td>\n      <td>12</td>\n      <td>1.0</td>\n      <td>6485.0</td>\n      <td>A3</td>\n      <td>17381.0</td>\n      <td>88.0</td>\n      <td>90.0</td>\n    </tr>\n  </tbody>\n</table>\n<p>7288 rows × 9 columns</p>\n</div>"
     },
     "execution_count": 141,
     "metadata": {},
     "output_type": "execute_result"
    }
   ],
   "source": [
    "# 数据表合并\n",
    "df = demand.merge(order, on=['product_id', 'year', 'month'], how='left')\n",
    "df_test = demand_test.merge(order_test, on=['product_id', 'year', 'month'], how='left')\n",
    "df"
   ]
  },
  {
   "cell_type": "code",
   "execution_count": 142,
   "id": "b7cf47fb-6ad3-4085-8a23-4aade4e0a9cb",
   "metadata": {
    "pycharm": {
     "name": "#%%\n"
    }
   },
   "outputs": [],
   "source": [
    "# 缺失值,缺失行label均为0\n",
    "null_index = df.isnull().any(axis = 1) == True\n",
    "df[null_index]['label'].sum()\n",
    "df = df[~null_index]"
   ]
  },
  {
   "cell_type": "code",
   "execution_count": 143,
   "id": "5a35df45-43ae-41c3-9faa-321a30ed686b",
   "metadata": {
    "pycharm": {
     "name": "#%%\n"
    }
   },
   "outputs": [
    {
     "data": {
      "text/plain": "      product_id  year  month  is_sale_day   label type    order  start_stock  \\\n0           1001  2018      2          0.0   517.0   A1   1129.0         47.0   \n1           1001  2018      3          0.0  3190.0   A1   3568.0         70.0   \n2           1001  2018      4          0.0  4186.0   A1   4560.0         91.0   \n3           1001  2018      5          0.0  5412.0   A1   7521.0        110.0   \n4           1001  2018      6          0.0  5665.0   A1   7687.0         47.0   \n...          ...   ...    ...          ...     ...  ...      ...          ...   \n7283        1210  2020      8          1.0  6443.0   A3  14180.0         97.0   \n7284        1210  2020      9          1.0  6432.0   A3  15034.0         94.0   \n7285        1210  2020     10          1.0  5803.0   A3  14312.0         79.0   \n7286        1210  2020     11          1.0  6138.0   A3  16180.0         81.0   \n7287        1210  2020     12          1.0  6485.0   A3  17381.0         88.0   \n\n      end_stock  \n0          70.0  \n1          91.0  \n2         110.0  \n3          47.0  \n4          41.0  \n...         ...  \n7283       94.0  \n7284       79.0  \n7285       61.0  \n7286       88.0  \n7287       90.0  \n\n[7178 rows x 9 columns]",
      "text/html": "<div>\n<style scoped>\n    .dataframe tbody tr th:only-of-type {\n        vertical-align: middle;\n    }\n\n    .dataframe tbody tr th {\n        vertical-align: top;\n    }\n\n    .dataframe thead th {\n        text-align: right;\n    }\n</style>\n<table border=\"1\" class=\"dataframe\">\n  <thead>\n    <tr style=\"text-align: right;\">\n      <th></th>\n      <th>product_id</th>\n      <th>year</th>\n      <th>month</th>\n      <th>is_sale_day</th>\n      <th>label</th>\n      <th>type</th>\n      <th>order</th>\n      <th>start_stock</th>\n      <th>end_stock</th>\n    </tr>\n  </thead>\n  <tbody>\n    <tr>\n      <th>0</th>\n      <td>1001</td>\n      <td>2018</td>\n      <td>2</td>\n      <td>0.0</td>\n      <td>517.0</td>\n      <td>A1</td>\n      <td>1129.0</td>\n      <td>47.0</td>\n      <td>70.0</td>\n    </tr>\n    <tr>\n      <th>1</th>\n      <td>1001</td>\n      <td>2018</td>\n      <td>3</td>\n      <td>0.0</td>\n      <td>3190.0</td>\n      <td>A1</td>\n      <td>3568.0</td>\n      <td>70.0</td>\n      <td>91.0</td>\n    </tr>\n    <tr>\n      <th>2</th>\n      <td>1001</td>\n      <td>2018</td>\n      <td>4</td>\n      <td>0.0</td>\n      <td>4186.0</td>\n      <td>A1</td>\n      <td>4560.0</td>\n      <td>91.0</td>\n      <td>110.0</td>\n    </tr>\n    <tr>\n      <th>3</th>\n      <td>1001</td>\n      <td>2018</td>\n      <td>5</td>\n      <td>0.0</td>\n      <td>5412.0</td>\n      <td>A1</td>\n      <td>7521.0</td>\n      <td>110.0</td>\n      <td>47.0</td>\n    </tr>\n    <tr>\n      <th>4</th>\n      <td>1001</td>\n      <td>2018</td>\n      <td>6</td>\n      <td>0.0</td>\n      <td>5665.0</td>\n      <td>A1</td>\n      <td>7687.0</td>\n      <td>47.0</td>\n      <td>41.0</td>\n    </tr>\n    <tr>\n      <th>...</th>\n      <td>...</td>\n      <td>...</td>\n      <td>...</td>\n      <td>...</td>\n      <td>...</td>\n      <td>...</td>\n      <td>...</td>\n      <td>...</td>\n      <td>...</td>\n    </tr>\n    <tr>\n      <th>7283</th>\n      <td>1210</td>\n      <td>2020</td>\n      <td>8</td>\n      <td>1.0</td>\n      <td>6443.0</td>\n      <td>A3</td>\n      <td>14180.0</td>\n      <td>97.0</td>\n      <td>94.0</td>\n    </tr>\n    <tr>\n      <th>7284</th>\n      <td>1210</td>\n      <td>2020</td>\n      <td>9</td>\n      <td>1.0</td>\n      <td>6432.0</td>\n      <td>A3</td>\n      <td>15034.0</td>\n      <td>94.0</td>\n      <td>79.0</td>\n    </tr>\n    <tr>\n      <th>7285</th>\n      <td>1210</td>\n      <td>2020</td>\n      <td>10</td>\n      <td>1.0</td>\n      <td>5803.0</td>\n      <td>A3</td>\n      <td>14312.0</td>\n      <td>79.0</td>\n      <td>61.0</td>\n    </tr>\n    <tr>\n      <th>7286</th>\n      <td>1210</td>\n      <td>2020</td>\n      <td>11</td>\n      <td>1.0</td>\n      <td>6138.0</td>\n      <td>A3</td>\n      <td>16180.0</td>\n      <td>81.0</td>\n      <td>88.0</td>\n    </tr>\n    <tr>\n      <th>7287</th>\n      <td>1210</td>\n      <td>2020</td>\n      <td>12</td>\n      <td>1.0</td>\n      <td>6485.0</td>\n      <td>A3</td>\n      <td>17381.0</td>\n      <td>88.0</td>\n      <td>90.0</td>\n    </tr>\n  </tbody>\n</table>\n<p>7178 rows × 9 columns</p>\n</div>"
     },
     "execution_count": 143,
     "metadata": {},
     "output_type": "execute_result"
    }
   ],
   "source": [
    "df"
   ]
  },
  {
   "cell_type": "code",
   "execution_count": 144,
   "id": "e693951a-527a-4985-bb40-a6b43fb88917",
   "metadata": {
    "pycharm": {
     "name": "#%%\n"
    }
   },
   "outputs": [],
   "source": [
    "import matplotlib.pyplot as plt\n",
    "import os\n",
    "import copy\n",
    "# 训练数据集构建, 前八月加后三月（后三月中label置为0）预测后三月的\n",
    "in_steps, out_steps = 8, 3\n",
    "df = df.replace('A1', 1)\n",
    "df = df.replace('A2', 2)\n",
    "df = df.replace('A3', 3)\n",
    "group_df = df.groupby('product_id')\n",
    "norm_feat = ['label', 'order', 'start_stock', 'end_stock']\n",
    "feat = ['month', 'type', 'is_sale_day', 'label', 'order', 'start_stock', 'end_stock']\n",
    "if not os.path.exists('vis_png/'):\n",
    "    os.makedirs('vis_png/')\n",
    "ids, id_x_values, id_y_values = [], {}, {}\n",
    "maxvalue, minvalue = {}, {}\n",
    "group_df_value = {}\n",
    "for key, value in group_df:\n",
    "    group_df_value[key] = copy.deepcopy(value)\n",
    "    maxvalue[key] = value[norm_feat].max()\n",
    "    minvalue[key] = value[norm_feat].min()\n",
    "    maxvalue[key]['start_stock'] = max(maxvalue[key]['start_stock'], maxvalue[key]['end_stock'])\n",
    "    maxvalue[key]['end_stock'] = max(maxvalue[key]['start_stock'], maxvalue[key]['end_stock'])\n",
    "    minvalue[key]['start_stock'] = min(minvalue[key]['start_stock'], minvalue[key]['end_stock'])\n",
    "    minvalue[key]['end_stock'] = min(minvalue[key]['start_stock'], minvalue[key]['end_stock'])\n",
    "    \n",
    "    \n",
    "    value[norm_feat] = (value[norm_feat]-value[norm_feat].min() + 1e-5) / (value[norm_feat].max() - value[norm_feat].min() + 1e-5)\n",
    "    # plt.figure()\n",
    "    # value['label'].plot(label='label')\n",
    "    # value['order'].plot(label='order')\n",
    "    # value['start_stock'].plot(label='start_stock')\n",
    "    # value['end_stock'].plot(label='end_stock')\n",
    "    # plt.legend()\n",
    "    # plt.savefig(f'vis_png/{key}.png')\n",
    "    id_xvalue, id_y_value = [], []\n",
    "    for i in range(in_steps, len(value)-out_steps):\n",
    "        if value['label'][i-8:i-4].values.tolist() == [0,0,0,0]:\n",
    "            continue\n",
    "        id_y_value.append(value['label'][i:i + 3].values.tolist())\n",
    "        _data = value[feat][i-8:i+3].values\n",
    "        _data[-3:, 3] = 0\n",
    "        # print(_data)\n",
    "        id_xvalue.append(_data.tolist())\n",
    "    ids.append(key)\n",
    "    id_x_values[key] = id_xvalue\n",
    "    id_y_values[key] = id_y_value\n"
   ]
  },
  {
   "cell_type": "code",
   "execution_count": 145,
   "id": "5f4fc8b5-7135-45d3-9c71-b645632537a7",
   "metadata": {
    "pycharm": {
     "name": "#%%\n"
    }
   },
   "outputs": [
    {
     "data": {
      "text/plain": "dict_keys([1001, 1002, 1003, 1004, 1005, 1006, 1007, 1008, 1009, 1010, 1011, 1012, 1013, 1014, 1015, 1016, 1017, 1018, 1019, 1020, 1021, 1022, 1023, 1024, 1025, 1026, 1027, 1028, 1029, 1030, 1031, 1032, 1033, 1034, 1035, 1036, 1037, 1038, 1039, 1040, 1041, 1042, 1043, 1044, 1045, 1046, 1047, 1048, 1049, 1050, 1051, 1052, 1053, 1054, 1055, 1056, 1057, 1058, 1059, 1060, 1061, 1062, 1063, 1064, 1065, 1066, 1067, 1068, 1069, 1070, 1071, 1072, 1073, 1074, 1075, 1076, 1077, 1078, 1079, 1080, 1081, 1082, 1083, 1084, 1085, 1086, 1087, 1088, 1089, 1090, 1091, 1092, 1093, 1094, 1095, 1096, 1097, 1098, 1099, 1100, 1101, 1102, 1103, 1104, 1105, 1106, 1107, 1108, 1109, 1110, 1111, 1112, 1113, 1114, 1115, 1116, 1117, 1118, 1119, 1120, 1121, 1122, 1123, 1124, 1125, 1126, 1127, 1128, 1129, 1130, 1131, 1132, 1133, 1134, 1135, 1136, 1137, 1138, 1139, 1140, 1141, 1142, 1143, 1145, 1146, 1147, 1148, 1149, 1150, 1151, 1152, 1153, 1154, 1155, 1156, 1157, 1158, 1159, 1160, 1161, 1162, 1163, 1164, 1165, 1166, 1167, 1168, 1169, 1170, 1171, 1172, 1173, 1174, 1175, 1176, 1177, 1178, 1179, 1180, 1181, 1182, 1183, 1184, 1185, 1186, 1187, 1188, 1189, 1190, 1191, 1192, 1193, 1194, 1195, 1196, 1197, 1198, 1199, 1200, 1201, 1202, 1203, 1204, 1205, 1206, 1207, 1208, 1209, 1210])"
     },
     "execution_count": 145,
     "metadata": {},
     "output_type": "execute_result"
    }
   ],
   "source": [
    "group_df_value.keys()"
   ]
  },
  {
   "cell_type": "code",
   "execution_count": 146,
   "id": "d4a5a128-aa21-481b-9885-2720968a11e4",
   "metadata": {
    "pycharm": {
     "name": "#%%\n"
    }
   },
   "outputs": [],
   "source": [
    "import numpy as np\n",
    "# 测试集构建\n",
    "df_test['label'] = [0]*len(df_test)\n",
    "df_test = df_test.replace('A1', 1)\n",
    "df_test = df_test.replace('A2', 2)\n",
    "df_test = df_test.replace('A3', 3)\n",
    "group_df_test = df_test.groupby('product_id')\n",
    "\n",
    "test_ids_value, test_value = [], []\n",
    "for key, value in group_df_test:\n",
    "    value[norm_feat] = (value[norm_feat] - minvalue[key] + 1e-5) / (maxvalue[key] - minvalue[key] + 1e-5)\n",
    "    value['label'] = 0\n",
    "    group_df_value[key][norm_feat] = (group_df_value[key][norm_feat] - minvalue[key] + 1e-5) / (maxvalue[key] - minvalue[key] + 1e-5)\n",
    "    \n",
    "    _data1 = group_df_value[key][feat][-8:].values\n",
    "    if _data1.max() > 12:\n",
    "        print('data1', key, _data1.max())\n",
    "    \n",
    "    _data2 = value[feat].values\n",
    "    if _data2.max() > 12:\n",
    "        print('data2', key, _data2.max())\n",
    "    \n",
    "    # print(value_feat)\n",
    "    _data = np.concatenate([_data1, _data2], axis=0)\n",
    "    # print(_data)\n",
    "    test_value.append(_data.tolist())\n",
    "    test_ids_value.append(key)\n"
   ]
  },
  {
   "cell_type": "code",
   "execution_count": 147,
   "id": "3f2750cf-581f-45ca-85e0-34eee9888066",
   "metadata": {
    "pycharm": {
     "name": "#%%\n"
    }
   },
   "outputs": [
    {
     "data": {
      "text/plain": "(label              0.0\n order          17381.0\n start_stock      117.0\n end_stock        117.0\n dtype: float64,\n label             0.0\n order          1101.0\n start_stock      40.0\n end_stock        40.0\n dtype: float64)"
     },
     "execution_count": 147,
     "metadata": {},
     "output_type": "execute_result"
    }
   ],
   "source": [
    "maxvalue[1117], minvalue[1117]"
   ]
  },
  {
   "cell_type": "code",
   "execution_count": 148,
   "id": "9ae3e090-cb45-47e4-9af4-cae6ea11ceb9",
   "metadata": {
    "pycharm": {
     "name": "#%%\n"
    }
   },
   "outputs": [
    {
     "name": "stdout",
     "output_type": "stream",
     "text": [
      "     label    order  start_stock  end_stock\n",
      "348      0  15182.0         55.0       71.0\n",
      "349      0   1128.0         71.0       82.0\n",
      "350      0  10756.0         82.0       66.0\n",
      "     label     order  start_stock  end_stock\n",
      "348      0  0.864926     0.194805   0.402597\n",
      "349      0  0.001658     0.402597   0.545455\n",
      "350      0  0.593059     0.545455   0.337662\n",
      "         label     order  start_stock  end_stock\n",
      "4060  100001.0 -0.067629     -0.51948  -0.519480\n",
      "4061  100001.0 -0.067620     -0.51948  -0.519480\n",
      "4062  100001.0 -0.067616     -0.51948  -0.519480\n",
      "4063  100001.0 -0.067605     -0.51948  -0.519480\n",
      "4064  100001.0 -0.067604     -0.51948  -0.519480\n",
      "4065  100001.0 -0.067600     -0.51948  -0.519480\n",
      "4066  100001.0 -0.067602     -0.51948  -0.519480\n",
      "4067  100001.0 -0.067603     -0.51948  -0.519480\n",
      "4068  100001.0 -0.067605     -0.51948  -0.519480\n",
      "4069  100001.0 -0.067601     -0.51948  -0.519480\n",
      "4070  100001.0 -0.067598     -0.51948  -0.519480\n",
      "4071  100001.0 -0.067607     -0.51948  -0.519480\n",
      "4072  100001.0 -0.067629     -0.51948  -0.519480\n",
      "4073  100001.0 -0.067616     -0.51948  -0.519480\n",
      "4074  100001.0 -0.067608     -0.51948  -0.515601\n",
      "4075  100001.0 -0.067596     -0.51948  -0.519480\n",
      "4076  100001.0 -0.067593     -0.51948  -0.519480\n",
      "4077  100001.0 -0.067589     -0.51948  -0.519480\n",
      "4078  100001.0 -0.067592     -0.51948  -0.519480\n",
      "4079  100001.0 -0.067596     -0.51948  -0.519480\n",
      "4080  100001.0 -0.067593     -0.51948  -0.519480\n",
      "4081  100001.0 -0.067585     -0.51948  -0.519480\n",
      "4082  100001.0 -0.067580     -0.51948  -0.519480\n",
      "4083  100001.0 -0.067616     -0.51948  -0.519480\n",
      "4084  100001.0 -0.067623     -0.51948  -0.517288\n",
      "4085  100001.0 -0.067622     -0.51948  -0.519480\n",
      "4086  100001.0 -0.067606     -0.51948  -0.515601\n",
      "4087  100001.0 -0.067586     -0.51948  -0.519480\n",
      "4088  100001.0 -0.067584     -0.51948  -0.506493\n",
      "4089  100001.0 -0.067573     -0.51948  -0.519480\n",
      "4090  100001.0 -0.067580     -0.51948  -0.519480\n",
      "4091  100001.0 -0.067576     -0.51948  -0.519480\n",
      "4092  100001.0 -0.067579     -0.51948  -0.507674\n",
      "4093  100001.0 -0.067572     -0.51948  -0.519480\n",
      "4094  100001.0 -0.067568     -0.51948  -0.516950\n"
     ]
    }
   ],
   "source": [
    "for key, value in group_df_test:\n",
    "    if key == 1117:\n",
    "        print(value[norm_feat])\n",
    "        value_feat = (value[norm_feat] - minvalue[key] + 1e-5) / (maxvalue[key] - minvalue[key] + 1e-5)\n",
    "        value_feat['label'] = 0\n",
    "        train_value = (group_df_value[key][norm_feat] - minvalue[key] + 1e-5) / (maxvalue[key] - minvalue[key] + 1e-5)\n",
    "        print(value_feat)\n",
    "        print(train_value)\n",
    "        break"
   ]
  },
  {
   "cell_type": "code",
   "execution_count": 149,
   "id": "cac339ba-3230-4ed4-919f-1a36a4eed2dd",
   "metadata": {
    "pycharm": {
     "name": "#%%\n"
    }
   },
   "outputs": [
    {
     "data": {
      "text/plain": "((209, 11, 7), 209, 209)"
     },
     "execution_count": 149,
     "metadata": {},
     "output_type": "execute_result"
    }
   ],
   "source": [
    "np.array(test_value).shape, len(test_ids_value), len(group_df_test)"
   ]
  },
  {
   "cell_type": "code",
   "execution_count": 150,
   "id": "820d78fc-a569-43c5-a55c-ee9c6f9b9126",
   "metadata": {
    "pycharm": {
     "name": "#%%\n"
    }
   },
   "outputs": [],
   "source": [
    "# 训练测试划分\n",
    "import random\n",
    "n_split = 5\n",
    "random.shuffle(ids)\n",
    "x_train, y_train = {}, {}\n",
    "x_test, y_test = {}, {}\n",
    "ids_map = []\n",
    "for tmpi, i in enumerate(range(0, len(ids), len(ids)//5)):\n",
    "    test_ids = ids[i:i+len(ids)//5]\n",
    "    train_ids = list(set(ids) - set(test_ids))\n",
    "    ids_map.append([train_ids, test_ids])\n",
    "\n",
    "    x_train[tmpi] = []\n",
    "    y_train[tmpi] = []\n",
    "    \n",
    "    list(map(lambda x: x_train[tmpi].extend(id_x_values[x]), train_ids))\n",
    "    list(map(lambda x: y_train[tmpi].extend(id_y_values[x]), train_ids))\n",
    "    x_test[tmpi] = []\n",
    "    y_test[tmpi] = []\n",
    "    list(map(lambda x: x_test[tmpi].extend(id_x_values[x]), test_ids))\n",
    "    list(map(lambda x: y_test[tmpi].extend(id_y_values[x]), test_ids))"
   ]
  },
  {
   "cell_type": "code",
   "execution_count": 151,
   "id": "2b2bdbed-8059-4c13-aa6e-7e8dccd1283a",
   "metadata": {
    "pycharm": {
     "name": "#%%\n"
    }
   },
   "outputs": [
    {
     "data": {
      "text/plain": "(3902, 11, 7)"
     },
     "execution_count": 151,
     "metadata": {},
     "output_type": "execute_result"
    }
   ],
   "source": [
    "import numpy as np\n",
    "np.array(x_train[0]).shape"
   ]
  },
  {
   "cell_type": "code",
   "execution_count": 152,
   "id": "464babdf-d7ca-4fdf-b3a0-b3fff06b8a1d",
   "metadata": {
    "pycharm": {
     "name": "#%%\n"
    }
   },
   "outputs": [],
   "source": [
    "from torch import nn\n",
    "import torch\n",
    "\n",
    "class LSTM(nn.Module):\n",
    "    def __init__(self, input_size, hidden_size, num_layers, output_size, batch_size):\n",
    "        super().__init__()\n",
    "        self.input_size = input_size\n",
    "        self.hidden_size = hidden_size\n",
    "        self.num_layers = num_layers\n",
    "        self.output_size = output_size\n",
    "        self.num_directions = 1 # 单向LSTM\n",
    "        self.batch_size = batch_size\n",
    "        self.lstm = nn.LSTM(self.input_size, self.hidden_size, self.num_layers, batch_first = True)\n",
    "        self.linear = nn.Linear(self.hidden_size, self.output_size)\n",
    "\n",
    "    def forward(self, input_seq):\n",
    "        # batch_size, seq_len = input_seq[0], input_seq[1]\n",
    "        # 两个初始化\n",
    "        h_0 = torch.randn(self.num_directions * self.num_layers, self.batch_size, self.hidden_size).to(device)\n",
    "        c_0 = torch.randn(self.num_directions * self.num_layers, self.batch_size, self.hidden_size).to(device)\n",
    "        # output(batch_size, seq_len, num_directions * hidden_size)\n",
    "        #前向计算\n",
    "        output, _ = self.lstm(input_seq, (h_0, c_0))\n",
    "        pred = self.linear(output)\n",
    "        pred = pred[:, -1, :]\n",
    "        return pred"
   ]
  },
  {
   "cell_type": "code",
   "execution_count": 153,
   "id": "aa8ba5a7-32e3-444f-b250-0de72d206d0b",
   "metadata": {
    "pycharm": {
     "name": "#%%\n"
    }
   },
   "outputs": [],
   "source": [
    "# 重复五折交叉熵，0-4\n",
    "random_split = 4"
   ]
  },
  {
   "cell_type": "code",
   "execution_count": 154,
   "id": "ea1ffc4f-5b14-4f94-bb3c-61ff24eb35f4",
   "metadata": {
    "pycharm": {
     "name": "#%%\n"
    }
   },
   "outputs": [
    {
     "name": "stderr",
     "output_type": "stream",
     "text": [
      "epoch 999 train_loss 0.00980012 test_loss 0.01157164: 100%|██████████| 1000/1000 [01:28<00:00, 11.26it/s]\n"
     ]
    }
   ],
   "source": [
    "from tqdm import tqdm\n",
    "from torch.utils.data import DataLoader,TensorDataset\n",
    "from torch.optim.lr_scheduler import StepLR\n",
    "import copy \n",
    "\n",
    "device = 'cuda'\n",
    "batch_size = 512\n",
    "test_loader = DataLoader(TensorDataset(torch.tensor(x_test[random_split]).float(), torch.tensor(y_test[random_split]).float()), batch_size, True, drop_last=True, pin_memory = True)\n",
    "    \n",
    "def get_val_loss(model):\n",
    "    model.eval()\n",
    "    loss_function = nn.MSELoss().to(device)\n",
    "    val_loss = []\n",
    "    for (seq, label) in test_loader:\n",
    "        with torch.no_grad():\n",
    "            seq = seq.to(device)\n",
    "            label = label.to(device)\n",
    "            y_pred = model(seq)\n",
    "            loss = loss_function(y_pred, label)\n",
    "            val_loss.append(loss.item())\n",
    "\n",
    "    return np.mean(val_loss)\n",
    "\n",
    "def train(path):\n",
    "    input_size, hidden_size, num_layers = 7, 32, 2\n",
    "    output_size = 3\n",
    "    # 定义模型优化器、损失函数等\n",
    "    model = LSTM(input_size, hidden_size, num_layers, output_size, batch_size = batch_size).to(device)\n",
    "    train_loader = DataLoader(TensorDataset(torch.tensor(x_train[random_split]).float(), torch.tensor(y_train[random_split]).float()), batch_size, True, drop_last=True, pin_memory = True)\n",
    "    loss_function = nn.MSELoss().to(device)\n",
    "    optimizer = torch.optim.Adam(model.parameters(), lr=3e-4, weight_decay=1e-4)\n",
    "    scheduler = StepLR(optimizer, step_size=500, gamma=0.1)\n",
    "    # training\n",
    "    min_epochs = 10\n",
    "    best_model = None\n",
    "    min_val_loss = 5\n",
    "    pbar = tqdm(range(1000))\n",
    "    for epoch in pbar:\n",
    "        train_loss = []\n",
    "        for seq, label in train_loader:\n",
    "            seq = seq.to(device)\n",
    "            label = label.to(device)\n",
    "            y_pred = model(seq)\n",
    "            loss = loss_function(y_pred, label)\n",
    "            train_loss.append(loss.item())\n",
    "            optimizer.zero_grad()\n",
    "            loss.backward()\n",
    "            optimizer.step()\n",
    "\n",
    "        scheduler.step()\n",
    "        # validation\n",
    "        val_loss = get_val_loss(model)\n",
    "        if epoch > min_epochs and val_loss < min_val_loss:\n",
    "            min_val_loss = val_loss\n",
    "            best_model = copy.deepcopy(model)\n",
    "\n",
    "        pbar.set_description('epoch {:03d} train_loss {:.8f} test_loss {:.8f}'.format(epoch, np.mean(train_loss), val_loss))\n",
    "        model.train()\n",
    "\n",
    "    state = {'models': best_model.state_dict()}\n",
    "    torch.save(state, path)\n",
    "\n",
    "train(f'train{random_split}')"
   ]
  },
  {
   "cell_type": "code",
   "execution_count": 155,
   "id": "86a810f5-8113-4b76-96e6-0f27cc8faf58",
   "metadata": {
    "pycharm": {
     "name": "#%%\n"
    }
   },
   "outputs": [
    {
     "name": "stdout",
     "output_type": "stream",
     "text": [
      "loading models...\n",
      "predicting...\n"
     ]
    },
    {
     "name": "stderr",
     "output_type": "stream",
     "text": [
      "100%|██████████| 1/1 [00:00<00:00, 83.36it/s]\n",
      "No artists with labels found to put in legend.  Note that artists whose label start with an underscore are ignored when legend() is called with no argument.\n"
     ]
    },
    {
     "data": {
      "text/plain": "<Figure size 1440x144 with 1 Axes>",
      "image/png": "[encoded data removed]"
     },
     "metadata": {
      "needs_background": "light"
     },
     "output_type": "display_data"
    }
   ],
   "source": [
    "from itertools import chain\n",
    "from scipy.interpolate import make_interp_spline\n",
    "device = 'cuda'\n",
    "def test(path):\n",
    "    pred = []\n",
    "    y = []\n",
    "    print('loading models...')\n",
    "    input_size, hidden_size, num_layers = 7, 32, 2\n",
    "    output_size = 3\n",
    "    test_loader = DataLoader(TensorDataset(torch.tensor(x_test[random_split]).float(),torch.tensor(y_test[random_split]).float()), batch_size, True, drop_last = True, pin_memory = True)\n",
    "    model = LSTM(input_size, hidden_size, num_layers, output_size, batch_size=batch_size).to(device)\n",
    "    model.load_state_dict(torch.load(path)['models'])\n",
    "    model.eval()\n",
    "    print('predicting...')\n",
    "    for (seq, target) in tqdm(test_loader):\n",
    "        # print(target)\n",
    "        target = list(chain.from_iterable(target))\n",
    "        y.extend(target)\n",
    "        seq = seq.to(device)\n",
    "        with torch.no_grad():\n",
    "            y_pred = model(seq)\n",
    "            y_pred = list(chain.from_iterable(y_pred.data.tolist()))\n",
    "            pred.extend(y_pred)\n",
    "\n",
    "    y, pred = np.array(y), np.array(pred)\n",
    "    plt.figure(figsize=(20, 2))\n",
    "    plt.plot(y[:200])\n",
    "    plt.plot(pred[:200])\n",
    "    \n",
    "    plt.legend()\n",
    "    # plt.show()\n",
    "    plt.savefig(f'cv{random_split}.png')\n",
    "test(f'train{random_split}')"
   ]
  },
  {
   "cell_type": "code",
   "execution_count": 156,
   "id": "d7beba3e-e474-47ae-b967-39a725e4f11c",
   "metadata": {
    "pycharm": {
     "name": "#%%\n"
    }
   },
   "outputs": [
    {
     "data": {
      "text/plain": "(209, 209)"
     },
     "execution_count": 156,
     "metadata": {},
     "output_type": "execute_result"
    }
   ],
   "source": [
    "len(test_ids_value), len(test_value)"
   ]
  },
  {
   "cell_type": "code",
   "execution_count": 157,
   "id": "fd04039c-cae9-4222-b9cd-ca7cb736ac82",
   "metadata": {
    "pycharm": {
     "name": "#%%\n"
    }
   },
   "outputs": [
    {
     "name": "stdout",
     "output_type": "stream",
     "text": [
      "predicting...\n",
      "[[5.0, 2.0, 1.0, 0.724021006606285, 0.6984643736495919, 0.3273195962974279, 0.21520619568033253], [6.0, 2.0, 1.0, 0.7442004715113094, 0.7346437348067298, 0.21520619568033253, 0.4935567075572589], [7.0, 2.0, 1.0, 0.8391431998349489, 0.9050368550951862, 0.4252577393652353, 0.3569587711732117], [8.0, 2.0, 1.0, 0.8073440020645313, 0.8033783784991533, 0.3569587711732117, 0.21391753590312454], [9.0, 2.0, 1.0, 0.7002439731628648, 0.8558353809239341, 0.21391753590312454, 0.25902062810540427], [10.0, 2.0, 1.0, 0.7034280280761576, 0.8114864866022811, 0.25902062810540427, 0.31443299852534795], [11.0, 2.0, 1.0, 0.6662531531794016, 0.9262285012738154, 0.28221650409514815, 0.14948454704272493], [12.0, 2.0, 1.0, 0.7119050573907683, 1.0, 0.14948454704272493, 0.13917526882506098], [1.0, 2.0, 1.0, 0.0, 0.864926290009259, 0.13917526882506098, 0.19716495879942064], [2.0, 2.0, 1.0, 0.0, 0.0016584772717085521, 0.19716495879942064, 0.4046391829299074], [3.0, 2.0, 1.0, 0.0, 0.5930589683089318, 0.4046391829299074, 0.30154640075326805]]\n"
     ]
    }
   ],
   "source": [
    "from itertools import chain\n",
    "from scipy.interpolate import make_interp_spline\n",
    "device = 'cuda'\n",
    "def predict(path):\n",
    "    pred = []\n",
    "    y = []\n",
    "    input_size, hidden_size, num_layers = 7, 32, 2\n",
    "    output_size = 3\n",
    "    model = LSTM(input_size, hidden_size, num_layers, output_size, batch_size=1).to(device)\n",
    "    model.load_state_dict(torch.load(path)['models'])\n",
    "    model.eval()\n",
    "    print('predicting...')\n",
    "    test_res = pd.DataFrame(columns=['product_id', 'month', 'label'])\n",
    "    sidx = 0\n",
    "    for map_id, seq in zip(test_ids_value, test_value):\n",
    "        if map_id == 1165:\n",
    "            print(seq)\n",
    "        seq = torch.Tensor(np.array(seq)[np.newaxis,:,:]).to(device)\n",
    "        # print(seq.size())\n",
    "        with torch.no_grad():\n",
    "            y_pred = model(seq)\n",
    "            y_pred = list(chain.from_iterable(y_pred.data.tolist()))\n",
    "            tmp = list(map(lambda x: x*(maxvalue[map_id]['label']-minvalue[map_id]['label'])+minvalue[map_id]['label'], y_pred))\n",
    "            tmp = list(map(lambda x: x if x>0 else 0, tmp))\n",
    "            for _m in range(3):\n",
    "                test_res.loc[sidx] = [map_id, _m+1, tmp[_m]]\n",
    "                sidx += 1\n",
    "    \n",
    "    return test_res\n",
    "\n",
    "res = predict(f'train{random_split}')"
   ]
  },
  {
   "cell_type": "code",
   "execution_count": 158,
   "id": "66b3c174-ed38-4696-84b0-fc4118d74478",
   "metadata": {
    "pycharm": {
     "name": "#%%\n"
    }
   },
   "outputs": [
    {
     "data": {
      "text/plain": "     product_id  month        label\n0        1001.0    1.0  1801.888640\n1        1001.0    2.0   340.709395\n2        1001.0    3.0  2724.021767\n3        1002.0    1.0  5326.202523\n4        1002.0    2.0  1665.749244\n..          ...    ...          ...\n622      1209.0    2.0   440.095637\n623      1209.0    3.0  1657.637267\n624      1210.0    1.0  3501.937541\n625      1210.0    2.0   992.637799\n626      1210.0    3.0  4342.270289\n\n[627 rows x 3 columns]",
      "text/html": "<div>\n<style scoped>\n    .dataframe tbody tr th:only-of-type {\n        vertical-align: middle;\n    }\n\n    .dataframe tbody tr th {\n        vertical-align: top;\n    }\n\n    .dataframe thead th {\n        text-align: right;\n    }\n</style>\n<table border=\"1\" class=\"dataframe\">\n  <thead>\n    <tr style=\"text-align: right;\">\n      <th></th>\n      <th>product_id</th>\n      <th>month</th>\n      <th>label</th>\n    </tr>\n  </thead>\n  <tbody>\n    <tr>\n      <th>0</th>\n      <td>1001.0</td>\n      <td>1.0</td>\n      <td>1801.888640</td>\n    </tr>\n    <tr>\n      <th>1</th>\n      <td>1001.0</td>\n      <td>2.0</td>\n      <td>340.709395</td>\n    </tr>\n    <tr>\n      <th>2</th>\n      <td>1001.0</td>\n      <td>3.0</td>\n      <td>2724.021767</td>\n    </tr>\n    <tr>\n      <th>3</th>\n      <td>1002.0</td>\n      <td>1.0</td>\n      <td>5326.202523</td>\n    </tr>\n    <tr>\n      <th>4</th>\n      <td>1002.0</td>\n      <td>2.0</td>\n      <td>1665.749244</td>\n    </tr>\n    <tr>\n      <th>...</th>\n      <td>...</td>\n      <td>...</td>\n      <td>...</td>\n    </tr>\n    <tr>\n      <th>622</th>\n      <td>1209.0</td>\n      <td>2.0</td>\n      <td>440.095637</td>\n    </tr>\n    <tr>\n      <th>623</th>\n      <td>1209.0</td>\n      <td>3.0</td>\n      <td>1657.637267</td>\n    </tr>\n    <tr>\n      <th>624</th>\n      <td>1210.0</td>\n      <td>1.0</td>\n      <td>3501.937541</td>\n    </tr>\n    <tr>\n      <th>625</th>\n      <td>1210.0</td>\n      <td>2.0</td>\n      <td>992.637799</td>\n    </tr>\n    <tr>\n      <th>626</th>\n      <td>1210.0</td>\n      <td>3.0</td>\n      <td>4342.270289</td>\n    </tr>\n  </tbody>\n</table>\n<p>627 rows × 3 columns</p>\n</div>"
     },
     "execution_count": 158,
     "metadata": {},
     "output_type": "execute_result"
    }
   ],
   "source": [
    "res"
   ]
  },
  {
   "cell_type": "code",
   "execution_count": 159,
   "id": "18088578-9d3d-4e12-baac-0399805a2a96",
   "metadata": {
    "pycharm": {
     "name": "#%%\n"
    }
   },
   "outputs": [],
   "source": [
    "res = res.sort_values(by=['month', 'product_id'])\n",
    "sub = pd.read_csv(os.path.join('data/提交示例.csv'))\n",
    "sub['label'] = res['label'].values\n",
    "sub['label'] = sub['label'].map(lambda x: x if x >= 0 else 0)\n",
    "\n",
    "sub.to_csv(f'baseline_L_cv{random_split}.csv', index = False)"
   ]
  },
  {
   "cell_type": "code",
   "execution_count": 160,
   "id": "17ea446a-97ba-49e5-89a2-84d4a1c9fd0a",
   "metadata": {
    "pycharm": {
     "name": "#%%\n"
    }
   },
   "outputs": [
    {
     "data": {
      "text/plain": "[1040,\n 1128,\n 1052,\n 1150,\n 1045,\n 1196,\n 1174,\n 1016,\n 1202,\n 1195,\n 1101,\n 1184,\n 1063,\n 1038,\n 1097,\n 1034,\n 1014,\n 1073,\n 1080,\n 1083,\n 1172,\n 1062,\n 1114,\n 1168,\n 1133,\n 1185,\n 1148,\n 1156,\n 1026,\n 1012,\n 1004,\n 1161,\n 1179,\n 1006,\n 1055,\n 1057,\n 1203,\n 1017,\n 1076,\n 1193,\n 1036]"
     },
     "execution_count": 160,
     "metadata": {},
     "output_type": "execute_result"
    }
   ],
   "source": [
    "ids_map[3][1]"
   ]
  },
  {
   "cell_type": "code",
   "execution_count": 161,
   "outputs": [],
   "source": [
    "pred0 = pd.read_csv('baseline_L_cv0.csv')\n",
    "pred1 = pd.read_csv('baseline_L_cv1.csv')\n",
    "pred2 = pd.read_csv('baseline_L_cv2.csv')\n",
    "pred3 = pd.read_csv('baseline_L_cv3.csv')\n",
    "pred4 = pd.read_csv('baseline_L_cv4.csv')\n",
    "pred = copy.deepcopy(pred0)\n",
    "pred['label'] = (pred0['label'] + pred1['label'] + pred2['label'] + pred3['label'] + pred4['label']) / 5\n",
    "pred.to_csv(f'baseline_L_cv.csv', index = False)"
   ],
   "metadata": {
    "collapsed": false,
    "pycharm": {
     "name": "#%%\n"
    }
   }
  },
  {
   "cell_type": "code",
   "execution_count": 161,
   "outputs": [],
   "source": [],
   "metadata": {
    "collapsed": false,
    "pycharm": {
     "name": "#%%\n"
    }
   }
  }
 ],
 "metadata": {
  "kernelspec": {
   "display_name": "Python 3 (ipykernel)",
   "language": "python",
   "name": "python3"
  },
  "language_info": {
   "codemirror_mode": {
    "name": "ipython",
    "version": 3
   },
   "file_extension": ".py",
   "mimetype": "text/x-python",
   "name": "python",
   "nbconvert_exporter": "python",
   "pygments_lexer": "ipython3",
   "version": "3.8.10"
  }
 },
 "nbformat": 4,
 "nbformat_minor": 5
}